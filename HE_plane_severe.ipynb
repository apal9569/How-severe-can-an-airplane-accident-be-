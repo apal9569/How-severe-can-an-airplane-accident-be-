{
  "nbformat": 4,
  "nbformat_minor": 0,
  "metadata": {
    "colab": {
      "name": "HE_plane_severe",
      "provenance": [],
      "include_colab_link": true
    },
    "kernelspec": {
      "name": "python3",
      "display_name": "Python 3"
    }
  },
  "cells": [
    {
      "cell_type": "markdown",
      "metadata": {
        "id": "view-in-github",
        "colab_type": "text"
      },
      "source": [
        "<a href=\"https://colab.research.google.com/github/apal9569/How-severe-can-an-airplane-accident-be-/blob/master/HE_plane_severe.ipynb\" target=\"_parent\"><img src=\"https://colab.research.google.com/assets/colab-badge.svg\" alt=\"Open In Colab\"/></a>"
      ]
    },
    {
      "cell_type": "code",
      "metadata": {
        "id": "jGsn52QDK87m",
        "colab_type": "code",
        "colab": {}
      },
      "source": [
        ""
      ],
      "execution_count": 0,
      "outputs": []
    },
    {
      "cell_type": "code",
      "metadata": {
        "id": "irmmwdVFLMKA",
        "colab_type": "code",
        "colab": {}
      },
      "source": [
        "from google.colab import drive\n",
        "drive.mount('/content/drive')"
      ],
      "execution_count": 0,
      "outputs": []
    },
    {
      "cell_type": "code",
      "metadata": {
        "id": "LBcgqTz5LUcB",
        "colab_type": "code",
        "outputId": "1459dde5-3131-4237-e479-4f3b073244cb",
        "colab": {
          "base_uri": "https://localhost:8080/",
          "height": 34
        }
      },
      "source": [
        "cd drive/My\\ Drive"
      ],
      "execution_count": 2,
      "outputs": [
        {
          "output_type": "stream",
          "text": [
            "/content/drive/My Drive\n"
          ],
          "name": "stdout"
        }
      ]
    },
    {
      "cell_type": "code",
      "metadata": {
        "id": "6L87YdoBLexX",
        "colab_type": "code",
        "colab": {}
      },
      "source": [
        "!unzip AIRPLANE_SEVERE.zip -d HE_plane"
      ],
      "execution_count": 0,
      "outputs": []
    },
    {
      "cell_type": "code",
      "metadata": {
        "id": "zAkxEK_PLl5_",
        "colab_type": "code",
        "colab": {}
      },
      "source": [
        "!rm AIRPLANE_SEVERE.zip"
      ],
      "execution_count": 0,
      "outputs": []
    },
    {
      "cell_type": "code",
      "metadata": {
        "id": "M3gBWccsLvgW",
        "colab_type": "code",
        "colab": {}
      },
      "source": [
        "cd HE_plane/"
      ],
      "execution_count": 0,
      "outputs": []
    },
    {
      "cell_type": "code",
      "metadata": {
        "id": "qWqI0FRLLzu6",
        "colab_type": "code",
        "colab": {}
      },
      "source": [
        "import pandas as pd\n",
        "import numpy as np\n"
      ],
      "execution_count": 0,
      "outputs": []
    },
    {
      "cell_type": "code",
      "metadata": {
        "id": "RKZ36DGeL9TH",
        "colab_type": "code",
        "colab": {}
      },
      "source": [
        "train=pd.read_csv('train.csv')"
      ],
      "execution_count": 0,
      "outputs": []
    },
    {
      "cell_type": "code",
      "metadata": {
        "id": "ynyNKUkkMCMl",
        "colab_type": "code",
        "colab": {}
      },
      "source": [
        "train.head(10)"
      ],
      "execution_count": 0,
      "outputs": []
    },
    {
      "cell_type": "code",
      "metadata": {
        "id": "Amyd409eMEAM",
        "colab_type": "code",
        "outputId": "3cb7ba1f-5b57-47dc-deeb-614c2d28aca0",
        "colab": {
          "base_uri": "https://localhost:8080/",
          "height": 243
        }
      },
      "source": [
        "train.nunique()"
      ],
      "execution_count": 27,
      "outputs": [
        {
          "output_type": "execute_result",
          "data": {
            "text/plain": [
              "Severity                       4\n",
              "Safety_Score                1175\n",
              "Days_Since_Inspection         23\n",
              "Total_Safety_Complaints       44\n",
              "Control_Metric               952\n",
              "Turbulence_In_gforces       1117\n",
              "Cabin_Temperature            950\n",
              "Accident_Type_Code             7\n",
              "Max_Elevation               4191\n",
              "Violations                     6\n",
              "Adverse_Weather_Metric      4258\n",
              "Accident_ID                10000\n",
              "dtype: int64"
            ]
          },
          "metadata": {
            "tags": []
          },
          "execution_count": 27
        }
      ]
    },
    {
      "cell_type": "code",
      "metadata": {
        "id": "N4paiH2BMK60",
        "colab_type": "code",
        "colab": {}
      },
      "source": [
        "label=train['Severity']\n",
        "train=train.drop(columns=['Severity','Accident_ID'])"
      ],
      "execution_count": 0,
      "outputs": []
    },
    {
      "cell_type": "code",
      "metadata": {
        "id": "MJTKQ9BXMwmN",
        "colab_type": "code",
        "outputId": "321f0938-4f08-42fe-ecb6-6f90bb86e5bd",
        "colab": {
          "base_uri": "https://localhost:8080/",
          "height": 34
        }
      },
      "source": [
        "nan_col_before=train.columns[train.isna().any()].tolist()\n",
        "nan_col_before"
      ],
      "execution_count": 29,
      "outputs": [
        {
          "output_type": "execute_result",
          "data": {
            "text/plain": [
              "[]"
            ]
          },
          "metadata": {
            "tags": []
          },
          "execution_count": 29
        }
      ]
    },
    {
      "cell_type": "code",
      "metadata": {
        "id": "mwEBf3DFNaM0",
        "colab_type": "code",
        "colab": {}
      },
      "source": [
        "from xgboost import XGBClassifier\n",
        "from sklearn.model_selection import train_test_split\n",
        "from sklearn.preprocessing import LabelEncoder"
      ],
      "execution_count": 0,
      "outputs": []
    },
    {
      "cell_type": "code",
      "metadata": {
        "id": "4m37zcXTOSkO",
        "colab_type": "code",
        "outputId": "f193838d-f838-49f6-8624-e9944389d3a8",
        "colab": {
          "base_uri": "https://localhost:8080/",
          "height": 320
        }
      },
      "source": [
        "train.describe()"
      ],
      "execution_count": 0,
      "outputs": [
        {
          "output_type": "execute_result",
          "data": {
            "text/html": [
              "<div>\n",
              "<style scoped>\n",
              "    .dataframe tbody tr th:only-of-type {\n",
              "        vertical-align: middle;\n",
              "    }\n",
              "\n",
              "    .dataframe tbody tr th {\n",
              "        vertical-align: top;\n",
              "    }\n",
              "\n",
              "    .dataframe thead th {\n",
              "        text-align: right;\n",
              "    }\n",
              "</style>\n",
              "<table border=\"1\" class=\"dataframe\">\n",
              "  <thead>\n",
              "    <tr style=\"text-align: right;\">\n",
              "      <th></th>\n",
              "      <th>Safety_Score</th>\n",
              "      <th>Days_Since_Inspection</th>\n",
              "      <th>Total_Safety_Complaints</th>\n",
              "      <th>Control_Metric</th>\n",
              "      <th>Turbulence_In_gforces</th>\n",
              "      <th>Cabin_Temperature</th>\n",
              "      <th>Accident_Type_Code</th>\n",
              "      <th>Max_Elevation</th>\n",
              "      <th>Violations</th>\n",
              "      <th>Adverse_Weather_Metric</th>\n",
              "    </tr>\n",
              "  </thead>\n",
              "  <tbody>\n",
              "    <tr>\n",
              "      <th>count</th>\n",
              "      <td>10000.000000</td>\n",
              "      <td>10000.000000</td>\n",
              "      <td>10000.000000</td>\n",
              "      <td>10000.000000</td>\n",
              "      <td>10000.000000</td>\n",
              "      <td>10000.000000</td>\n",
              "      <td>10000.000000</td>\n",
              "      <td>10000.000000</td>\n",
              "      <td>10000.00000</td>\n",
              "      <td>10000.000000</td>\n",
              "    </tr>\n",
              "    <tr>\n",
              "      <th>mean</th>\n",
              "      <td>41.876406</td>\n",
              "      <td>12.931100</td>\n",
              "      <td>6.564300</td>\n",
              "      <td>65.145324</td>\n",
              "      <td>0.381495</td>\n",
              "      <td>79.969331</td>\n",
              "      <td>3.814900</td>\n",
              "      <td>32001.803282</td>\n",
              "      <td>2.01220</td>\n",
              "      <td>0.255635</td>\n",
              "    </tr>\n",
              "    <tr>\n",
              "      <th>std</th>\n",
              "      <td>16.138072</td>\n",
              "      <td>3.539803</td>\n",
              "      <td>6.971982</td>\n",
              "      <td>11.882934</td>\n",
              "      <td>0.121301</td>\n",
              "      <td>2.759739</td>\n",
              "      <td>1.902577</td>\n",
              "      <td>9431.995196</td>\n",
              "      <td>1.03998</td>\n",
              "      <td>0.381128</td>\n",
              "    </tr>\n",
              "    <tr>\n",
              "      <th>min</th>\n",
              "      <td>0.000000</td>\n",
              "      <td>1.000000</td>\n",
              "      <td>0.000000</td>\n",
              "      <td>0.000000</td>\n",
              "      <td>0.134000</td>\n",
              "      <td>74.740000</td>\n",
              "      <td>1.000000</td>\n",
              "      <td>831.695553</td>\n",
              "      <td>0.00000</td>\n",
              "      <td>0.000316</td>\n",
              "    </tr>\n",
              "    <tr>\n",
              "      <th>25%</th>\n",
              "      <td>30.593607</td>\n",
              "      <td>11.000000</td>\n",
              "      <td>2.000000</td>\n",
              "      <td>56.927985</td>\n",
              "      <td>0.293665</td>\n",
              "      <td>77.960000</td>\n",
              "      <td>2.000000</td>\n",
              "      <td>25757.636908</td>\n",
              "      <td>1.00000</td>\n",
              "      <td>0.012063</td>\n",
              "    </tr>\n",
              "    <tr>\n",
              "      <th>50%</th>\n",
              "      <td>41.278539</td>\n",
              "      <td>13.000000</td>\n",
              "      <td>4.000000</td>\n",
              "      <td>65.587967</td>\n",
              "      <td>0.365879</td>\n",
              "      <td>79.540000</td>\n",
              "      <td>4.000000</td>\n",
              "      <td>32060.336419</td>\n",
              "      <td>2.00000</td>\n",
              "      <td>0.074467</td>\n",
              "    </tr>\n",
              "    <tr>\n",
              "      <th>75%</th>\n",
              "      <td>52.511416</td>\n",
              "      <td>15.000000</td>\n",
              "      <td>9.000000</td>\n",
              "      <td>73.336372</td>\n",
              "      <td>0.451346</td>\n",
              "      <td>81.560000</td>\n",
              "      <td>5.000000</td>\n",
              "      <td>38380.641513</td>\n",
              "      <td>3.00000</td>\n",
              "      <td>0.354059</td>\n",
              "    </tr>\n",
              "    <tr>\n",
              "      <th>max</th>\n",
              "      <td>100.000000</td>\n",
              "      <td>23.000000</td>\n",
              "      <td>54.000000</td>\n",
              "      <td>100.000000</td>\n",
              "      <td>0.882648</td>\n",
              "      <td>97.510000</td>\n",
              "      <td>7.000000</td>\n",
              "      <td>64297.651218</td>\n",
              "      <td>5.00000</td>\n",
              "      <td>2.365378</td>\n",
              "    </tr>\n",
              "  </tbody>\n",
              "</table>\n",
              "</div>"
            ],
            "text/plain": [
              "       Safety_Score  Days_Since_Inspection  ...   Violations  Adverse_Weather_Metric\n",
              "count  10000.000000           10000.000000  ...  10000.00000            10000.000000\n",
              "mean      41.876406              12.931100  ...      2.01220                0.255635\n",
              "std       16.138072               3.539803  ...      1.03998                0.381128\n",
              "min        0.000000               1.000000  ...      0.00000                0.000316\n",
              "25%       30.593607              11.000000  ...      1.00000                0.012063\n",
              "50%       41.278539              13.000000  ...      2.00000                0.074467\n",
              "75%       52.511416              15.000000  ...      3.00000                0.354059\n",
              "max      100.000000              23.000000  ...      5.00000                2.365378\n",
              "\n",
              "[8 rows x 10 columns]"
            ]
          },
          "metadata": {
            "tags": []
          },
          "execution_count": 22
        }
      ]
    },
    {
      "cell_type": "code",
      "metadata": {
        "id": "6XTLUtiCOc5X",
        "colab_type": "code",
        "colab": {}
      },
      "source": [
        "le=LabelEncoder()\n",
        "label=le.fit_transform(label)"
      ],
      "execution_count": 0,
      "outputs": []
    },
    {
      "cell_type": "code",
      "metadata": {
        "id": "RJ6uCNo6eOdF",
        "colab_type": "code",
        "outputId": "19c74413-c240-414d-b528-b65953ddbdae",
        "colab": {
          "base_uri": "https://localhost:8080/",
          "height": 52
        }
      },
      "source": [
        "from sklearn.preprocessing import MinMaxScaler\n",
        "x=train['Safety_Score'].values\n",
        "minmax=MinMaxScaler()\n",
        "pd.DataFrame(minmax.fit_transform([x]).transpose()).nunique()"
      ],
      "execution_count": 12,
      "outputs": [
        {
          "output_type": "execute_result",
          "data": {
            "text/plain": [
              "0    1\n",
              "dtype: int64"
            ]
          },
          "metadata": {
            "tags": []
          },
          "execution_count": 12
        }
      ]
    },
    {
      "cell_type": "code",
      "metadata": {
        "id": "p1zQzIXuePZU",
        "colab_type": "code",
        "colab": {}
      },
      "source": [
        "data=(train-train.min())/(train.max()-train.min())"
      ],
      "execution_count": 0,
      "outputs": []
    },
    {
      "cell_type": "code",
      "metadata": {
        "id": "r2ErxV1KgwaZ",
        "colab_type": "code",
        "outputId": "6f4ee0d9-40b0-41cf-c4b9-9362d9e2bd8c",
        "colab": {
          "base_uri": "https://localhost:8080/",
          "height": 320
        }
      },
      "source": [
        "data.describe()"
      ],
      "execution_count": 32,
      "outputs": [
        {
          "output_type": "execute_result",
          "data": {
            "text/html": [
              "<div>\n",
              "<style scoped>\n",
              "    .dataframe tbody tr th:only-of-type {\n",
              "        vertical-align: middle;\n",
              "    }\n",
              "\n",
              "    .dataframe tbody tr th {\n",
              "        vertical-align: top;\n",
              "    }\n",
              "\n",
              "    .dataframe thead th {\n",
              "        text-align: right;\n",
              "    }\n",
              "</style>\n",
              "<table border=\"1\" class=\"dataframe\">\n",
              "  <thead>\n",
              "    <tr style=\"text-align: right;\">\n",
              "      <th></th>\n",
              "      <th>Safety_Score</th>\n",
              "      <th>Days_Since_Inspection</th>\n",
              "      <th>Total_Safety_Complaints</th>\n",
              "      <th>Control_Metric</th>\n",
              "      <th>Turbulence_In_gforces</th>\n",
              "      <th>Cabin_Temperature</th>\n",
              "      <th>Accident_Type_Code</th>\n",
              "      <th>Max_Elevation</th>\n",
              "      <th>Violations</th>\n",
              "      <th>Adverse_Weather_Metric</th>\n",
              "    </tr>\n",
              "  </thead>\n",
              "  <tbody>\n",
              "    <tr>\n",
              "      <th>count</th>\n",
              "      <td>10000.000000</td>\n",
              "      <td>10000.000000</td>\n",
              "      <td>10000.000000</td>\n",
              "      <td>10000.000000</td>\n",
              "      <td>10000.000000</td>\n",
              "      <td>10000.000000</td>\n",
              "      <td>10000.000000</td>\n",
              "      <td>10000.000000</td>\n",
              "      <td>10000.000000</td>\n",
              "      <td>10000.000000</td>\n",
              "    </tr>\n",
              "    <tr>\n",
              "      <th>mean</th>\n",
              "      <td>0.418764</td>\n",
              "      <td>0.542323</td>\n",
              "      <td>0.121561</td>\n",
              "      <td>0.651453</td>\n",
              "      <td>0.330589</td>\n",
              "      <td>0.229659</td>\n",
              "      <td>0.469150</td>\n",
              "      <td>0.491131</td>\n",
              "      <td>0.402440</td>\n",
              "      <td>0.107954</td>\n",
              "    </tr>\n",
              "    <tr>\n",
              "      <th>std</th>\n",
              "      <td>0.161381</td>\n",
              "      <td>0.160900</td>\n",
              "      <td>0.129111</td>\n",
              "      <td>0.118829</td>\n",
              "      <td>0.162027</td>\n",
              "      <td>0.121201</td>\n",
              "      <td>0.317096</td>\n",
              "      <td>0.148615</td>\n",
              "      <td>0.207996</td>\n",
              "      <td>0.161149</td>\n",
              "    </tr>\n",
              "    <tr>\n",
              "      <th>min</th>\n",
              "      <td>0.000000</td>\n",
              "      <td>0.000000</td>\n",
              "      <td>0.000000</td>\n",
              "      <td>0.000000</td>\n",
              "      <td>0.000000</td>\n",
              "      <td>0.000000</td>\n",
              "      <td>0.000000</td>\n",
              "      <td>0.000000</td>\n",
              "      <td>0.000000</td>\n",
              "      <td>0.000000</td>\n",
              "    </tr>\n",
              "    <tr>\n",
              "      <th>25%</th>\n",
              "      <td>0.305936</td>\n",
              "      <td>0.454545</td>\n",
              "      <td>0.037037</td>\n",
              "      <td>0.569280</td>\n",
              "      <td>0.213271</td>\n",
              "      <td>0.141414</td>\n",
              "      <td>0.166667</td>\n",
              "      <td>0.392745</td>\n",
              "      <td>0.200000</td>\n",
              "      <td>0.004967</td>\n",
              "    </tr>\n",
              "    <tr>\n",
              "      <th>50%</th>\n",
              "      <td>0.412785</td>\n",
              "      <td>0.545455</td>\n",
              "      <td>0.074074</td>\n",
              "      <td>0.655880</td>\n",
              "      <td>0.309730</td>\n",
              "      <td>0.210804</td>\n",
              "      <td>0.500000</td>\n",
              "      <td>0.492053</td>\n",
              "      <td>0.400000</td>\n",
              "      <td>0.031353</td>\n",
              "    </tr>\n",
              "    <tr>\n",
              "      <th>75%</th>\n",
              "      <td>0.525114</td>\n",
              "      <td>0.636364</td>\n",
              "      <td>0.166667</td>\n",
              "      <td>0.733364</td>\n",
              "      <td>0.423892</td>\n",
              "      <td>0.299517</td>\n",
              "      <td>0.666667</td>\n",
              "      <td>0.591639</td>\n",
              "      <td>0.600000</td>\n",
              "      <td>0.149570</td>\n",
              "    </tr>\n",
              "    <tr>\n",
              "      <th>max</th>\n",
              "      <td>1.000000</td>\n",
              "      <td>1.000000</td>\n",
              "      <td>1.000000</td>\n",
              "      <td>1.000000</td>\n",
              "      <td>1.000000</td>\n",
              "      <td>1.000000</td>\n",
              "      <td>1.000000</td>\n",
              "      <td>1.000000</td>\n",
              "      <td>1.000000</td>\n",
              "      <td>1.000000</td>\n",
              "    </tr>\n",
              "  </tbody>\n",
              "</table>\n",
              "</div>"
            ],
            "text/plain": [
              "       Safety_Score  ...  Adverse_Weather_Metric\n",
              "count  10000.000000  ...            10000.000000\n",
              "mean       0.418764  ...                0.107954\n",
              "std        0.161381  ...                0.161149\n",
              "min        0.000000  ...                0.000000\n",
              "25%        0.305936  ...                0.004967\n",
              "50%        0.412785  ...                0.031353\n",
              "75%        0.525114  ...                0.149570\n",
              "max        1.000000  ...                1.000000\n",
              "\n",
              "[8 rows x 10 columns]"
            ]
          },
          "metadata": {
            "tags": []
          },
          "execution_count": 32
        }
      ]
    },
    {
      "cell_type": "code",
      "metadata": {
        "id": "EGUYXBWSiiKx",
        "colab_type": "code",
        "colab": {
          "base_uri": "https://localhost:8080/",
          "height": 98
        },
        "outputId": "e73481aa-c0fd-4071-c7d9-4cbdaca04b79"
      },
      "source": [
        "from keras import layers\n",
        "from keras.layers import *\n",
        "from keras.models import Model\n",
        "from keras.preprocessing.image import load_img,img_to_array\n",
        "#from keras.applications.vgg19 import preprocess_input\n",
        "from keras.preprocessing.text import Tokenizer\n",
        "from keras.preprocessing.sequence import pad_sequences\n",
        "from keras.utils import to_categorical\n",
        "from keras.optimizers import RMSprop,Adam"
      ],
      "execution_count": 15,
      "outputs": [
        {
          "output_type": "stream",
          "text": [
            "Using TensorFlow backend.\n"
          ],
          "name": "stderr"
        },
        {
          "output_type": "display_data",
          "data": {
            "text/html": [
              "<p style=\"color: red;\">\n",
              "The default version of TensorFlow in Colab will soon switch to TensorFlow 2.x.<br>\n",
              "We recommend you <a href=\"https://www.tensorflow.org/guide/migrate\" target=\"_blank\">upgrade</a> now \n",
              "or ensure your notebook will continue to use TensorFlow 1.x via the <code>%tensorflow_version 1.x</code> magic:\n",
              "<a href=\"https://colab.research.google.com/notebooks/tensorflow_version.ipynb\" target=\"_blank\">more info</a>.</p>\n"
            ],
            "text/plain": [
              "<IPython.core.display.HTML object>"
            ]
          },
          "metadata": {
            "tags": []
          }
        }
      ]
    },
    {
      "cell_type": "code",
      "metadata": {
        "id": "MXhzz7HLlwYc",
        "colab_type": "code",
        "colab": {}
      },
      "source": [
        "from sklearn.preprocessing import OneHotEncoder\n",
        "label=pd.DataFrame(label)\n",
        "val=label.values\n",
        "onehot_encoder = OneHotEncoder(sparse=False)\n",
        "label=onehot_encoder.fit_transform(val)\n"
      ],
      "execution_count": 0,
      "outputs": []
    },
    {
      "cell_type": "code",
      "metadata": {
        "id": "wcDGgXAkjRHr",
        "colab_type": "code",
        "colab": {}
      },
      "source": [
        "trainx,testx,trainy,testy=train_test_split(data,label,test_size=0.15)"
      ],
      "execution_count": 0,
      "outputs": []
    },
    {
      "cell_type": "code",
      "metadata": {
        "id": "PiVx7bp-mf6t",
        "colab_type": "code",
        "outputId": "280a0b35-ba07-464c-b4ca-911f177c0b6f",
        "colab": {
          "base_uri": "https://localhost:8080/",
          "height": 139
        }
      },
      "source": [
        "trainy"
      ],
      "execution_count": 37,
      "outputs": [
        {
          "output_type": "execute_result",
          "data": {
            "text/plain": [
              "array([[1., 0., 0., 0.],\n",
              "       [1., 0., 0., 0.],\n",
              "       [0., 0., 0., 1.],\n",
              "       ...,\n",
              "       [0., 0., 0., 1.],\n",
              "       [0., 1., 0., 0.],\n",
              "       [1., 0., 0., 0.]])"
            ]
          },
          "metadata": {
            "tags": []
          },
          "execution_count": 37
        }
      ]
    },
    {
      "cell_type": "code",
      "metadata": {
        "id": "7xCg8nqIlHj0",
        "colab_type": "code",
        "colab": {}
      },
      "source": [
        "inp=Input(shape=(train.shape[1],))\n",
        "#den=Dense(256,activation='relu')(inp)\n",
        "den=Dense(128,activation='relu')(inp)\n",
        "den=Dense(128,activation='relu')(den)\n",
        "den=Dense(64,activation='relu')(den)\n",
        "den=Dense(64,activation='relu')(den)\n",
        "den=Dense(32,activation='relu')(den)\n",
        "\n",
        "den=Dense(label.shape[1],activation='softmax')(den)\n",
        "\n",
        "model=Model(inputs=inp, outputs=den)\n"
      ],
      "execution_count": 0,
      "outputs": []
    },
    {
      "cell_type": "code",
      "metadata": {
        "id": "M7Hpe5JWm9hS",
        "colab_type": "code",
        "colab": {}
      },
      "source": [
        "adam=Adam(lr=0.005,beta_1=0.95,beta_2=0.95,epsilon=0.001)\n",
        "model.compile(loss='categorical_crossentropy',optimizer=adam,metrics=['categorical_accuracy'])"
      ],
      "execution_count": 0,
      "outputs": []
    },
    {
      "cell_type": "code",
      "metadata": {
        "id": "Uzh8bMlMnUW_",
        "colab_type": "code",
        "outputId": "bfd8cce2-4134-415c-a243-67b2be5fbe56",
        "colab": {
          "base_uri": "https://localhost:8080/",
          "height": 749
        }
      },
      "source": [
        "history=model.fit(trainx,trainy,epochs=20,batch_size=256,verbose=1,validation_data=(testx,testy))"
      ],
      "execution_count": 111,
      "outputs": [
        {
          "output_type": "stream",
          "text": [
            "Train on 8500 samples, validate on 1500 samples\n",
            "Epoch 1/20\n",
            "8500/8500 [==============================] - 1s 115us/step - loss: 1.3182 - categorical_accuracy: 0.3479 - val_loss: 1.2577 - val_categorical_accuracy: 0.4560\n",
            "Epoch 2/20\n",
            "8500/8500 [==============================] - 0s 17us/step - loss: 1.1694 - categorical_accuracy: 0.4736 - val_loss: 1.0344 - val_categorical_accuracy: 0.5920\n",
            "Epoch 3/20\n",
            "8500/8500 [==============================] - 0s 18us/step - loss: 0.9656 - categorical_accuracy: 0.6159 - val_loss: 0.9433 - val_categorical_accuracy: 0.6020\n",
            "Epoch 4/20\n",
            "8500/8500 [==============================] - 0s 18us/step - loss: 0.7925 - categorical_accuracy: 0.6941 - val_loss: 0.7102 - val_categorical_accuracy: 0.7160\n",
            "Epoch 5/20\n",
            "8500/8500 [==============================] - 0s 18us/step - loss: 0.5574 - categorical_accuracy: 0.7945 - val_loss: 0.5376 - val_categorical_accuracy: 0.8007\n",
            "Epoch 6/20\n",
            "8500/8500 [==============================] - 0s 18us/step - loss: 0.4105 - categorical_accuracy: 0.8545 - val_loss: 0.4087 - val_categorical_accuracy: 0.8613\n",
            "Epoch 7/20\n",
            "8500/8500 [==============================] - 0s 19us/step - loss: 0.3364 - categorical_accuracy: 0.8802 - val_loss: 0.3565 - val_categorical_accuracy: 0.8753\n",
            "Epoch 8/20\n",
            "8500/8500 [==============================] - 0s 18us/step - loss: 0.3106 - categorical_accuracy: 0.8922 - val_loss: 0.3275 - val_categorical_accuracy: 0.8713\n",
            "Epoch 9/20\n",
            "8500/8500 [==============================] - 0s 18us/step - loss: 0.2892 - categorical_accuracy: 0.9019 - val_loss: 0.3168 - val_categorical_accuracy: 0.8920\n",
            "Epoch 10/20\n",
            "8500/8500 [==============================] - 0s 22us/step - loss: 0.2591 - categorical_accuracy: 0.9124 - val_loss: 0.3715 - val_categorical_accuracy: 0.8627\n",
            "Epoch 11/20\n",
            "8500/8500 [==============================] - 0s 19us/step - loss: 0.2937 - categorical_accuracy: 0.8929 - val_loss: 0.2968 - val_categorical_accuracy: 0.9020\n",
            "Epoch 12/20\n",
            "8500/8500 [==============================] - 0s 17us/step - loss: 0.2514 - categorical_accuracy: 0.9173 - val_loss: 0.2904 - val_categorical_accuracy: 0.9067\n",
            "Epoch 13/20\n",
            "8500/8500 [==============================] - 0s 19us/step - loss: 0.2354 - categorical_accuracy: 0.9189 - val_loss: 0.3618 - val_categorical_accuracy: 0.8700\n",
            "Epoch 14/20\n",
            "8500/8500 [==============================] - 0s 27us/step - loss: 0.2740 - categorical_accuracy: 0.9027 - val_loss: 0.2666 - val_categorical_accuracy: 0.9027\n",
            "Epoch 15/20\n",
            "8500/8500 [==============================] - 0s 25us/step - loss: 0.2422 - categorical_accuracy: 0.9169 - val_loss: 0.2820 - val_categorical_accuracy: 0.9007\n",
            "Epoch 16/20\n",
            "8500/8500 [==============================] - 0s 28us/step - loss: 0.2250 - categorical_accuracy: 0.9222 - val_loss: 0.2697 - val_categorical_accuracy: 0.9107\n",
            "Epoch 17/20\n",
            "8500/8500 [==============================] - 0s 28us/step - loss: 0.2434 - categorical_accuracy: 0.9131 - val_loss: 0.2825 - val_categorical_accuracy: 0.8940\n",
            "Epoch 18/20\n",
            "8500/8500 [==============================] - 0s 28us/step - loss: 0.2316 - categorical_accuracy: 0.9168 - val_loss: 0.3316 - val_categorical_accuracy: 0.8747\n",
            "Epoch 19/20\n",
            "8500/8500 [==============================] - 0s 29us/step - loss: 0.2306 - categorical_accuracy: 0.9151 - val_loss: 0.2763 - val_categorical_accuracy: 0.8927\n",
            "Epoch 20/20\n",
            "8500/8500 [==============================] - 0s 28us/step - loss: 0.2232 - categorical_accuracy: 0.9207 - val_loss: 0.2470 - val_categorical_accuracy: 0.9253\n"
          ],
          "name": "stdout"
        }
      ]
    },
    {
      "cell_type": "code",
      "metadata": {
        "id": "kRPlmQKrnp-M",
        "colab_type": "code",
        "colab": {}
      },
      "source": [
        "model=XGBClassifier(max_depth=6,learning_rate=0.15,gamma=0.15)\n",
        "model.fit(trainx,trainy)"
      ],
      "execution_count": 0,
      "outputs": []
    },
    {
      "cell_type": "code",
      "metadata": {
        "id": "W5JJyPT-OUzm",
        "colab_type": "code",
        "colab": {
          "base_uri": "https://localhost:8080/",
          "height": 34
        },
        "outputId": "0bea8b54-e596-4aec-ea35-a2655898434b"
      },
      "source": [
        "!ls"
      ],
      "execution_count": 41,
      "outputs": [
        {
          "output_type": "stream",
          "text": [
            "sample_submission.csv  test.csv  train.csv\n"
          ],
          "name": "stdout"
        }
      ]
    },
    {
      "cell_type": "code",
      "metadata": {
        "id": "iI4BU14cNnZe",
        "colab_type": "code",
        "colab": {}
      },
      "source": [
        "test=pd.read_csv('test.csv')"
      ],
      "execution_count": 0,
      "outputs": []
    },
    {
      "cell_type": "code",
      "metadata": {
        "id": "YC5qVRJcOgTl",
        "colab_type": "code",
        "colab": {
          "base_uri": "https://localhost:8080/",
          "height": 226
        },
        "outputId": "d074938d-0508-401e-a4c7-468cdda078ad"
      },
      "source": [
        "test.head()"
      ],
      "execution_count": 113,
      "outputs": [
        {
          "output_type": "execute_result",
          "data": {
            "text/html": [
              "<div>\n",
              "<style scoped>\n",
              "    .dataframe tbody tr th:only-of-type {\n",
              "        vertical-align: middle;\n",
              "    }\n",
              "\n",
              "    .dataframe tbody tr th {\n",
              "        vertical-align: top;\n",
              "    }\n",
              "\n",
              "    .dataframe thead th {\n",
              "        text-align: right;\n",
              "    }\n",
              "</style>\n",
              "<table border=\"1\" class=\"dataframe\">\n",
              "  <thead>\n",
              "    <tr style=\"text-align: right;\">\n",
              "      <th></th>\n",
              "      <th>Safety_Score</th>\n",
              "      <th>Days_Since_Inspection</th>\n",
              "      <th>Total_Safety_Complaints</th>\n",
              "      <th>Control_Metric</th>\n",
              "      <th>Turbulence_In_gforces</th>\n",
              "      <th>Cabin_Temperature</th>\n",
              "      <th>Accident_Type_Code</th>\n",
              "      <th>Max_Elevation</th>\n",
              "      <th>Violations</th>\n",
              "      <th>Adverse_Weather_Metric</th>\n",
              "      <th>Accident_ID</th>\n",
              "    </tr>\n",
              "  </thead>\n",
              "  <tbody>\n",
              "    <tr>\n",
              "      <th>0</th>\n",
              "      <td>19.497717</td>\n",
              "      <td>16</td>\n",
              "      <td>6</td>\n",
              "      <td>72.151322</td>\n",
              "      <td>0.388959</td>\n",
              "      <td>78.32</td>\n",
              "      <td>4</td>\n",
              "      <td>37949.724386</td>\n",
              "      <td>2</td>\n",
              "      <td>0.069692</td>\n",
              "      <td>1</td>\n",
              "    </tr>\n",
              "    <tr>\n",
              "      <th>1</th>\n",
              "      <td>58.173516</td>\n",
              "      <td>15</td>\n",
              "      <td>3</td>\n",
              "      <td>64.585232</td>\n",
              "      <td>0.250841</td>\n",
              "      <td>78.60</td>\n",
              "      <td>7</td>\n",
              "      <td>30194.805567</td>\n",
              "      <td>2</td>\n",
              "      <td>0.002777</td>\n",
              "      <td>10</td>\n",
              "    </tr>\n",
              "    <tr>\n",
              "      <th>2</th>\n",
              "      <td>33.287671</td>\n",
              "      <td>15</td>\n",
              "      <td>3</td>\n",
              "      <td>64.721969</td>\n",
              "      <td>0.336669</td>\n",
              "      <td>86.96</td>\n",
              "      <td>6</td>\n",
              "      <td>17572.925484</td>\n",
              "      <td>1</td>\n",
              "      <td>0.004316</td>\n",
              "      <td>14</td>\n",
              "    </tr>\n",
              "    <tr>\n",
              "      <th>3</th>\n",
              "      <td>3.287671</td>\n",
              "      <td>21</td>\n",
              "      <td>5</td>\n",
              "      <td>66.362808</td>\n",
              "      <td>0.421775</td>\n",
              "      <td>80.86</td>\n",
              "      <td>3</td>\n",
              "      <td>40209.186341</td>\n",
              "      <td>2</td>\n",
              "      <td>0.199990</td>\n",
              "      <td>17</td>\n",
              "    </tr>\n",
              "    <tr>\n",
              "      <th>4</th>\n",
              "      <td>10.867580</td>\n",
              "      <td>18</td>\n",
              "      <td>2</td>\n",
              "      <td>56.107566</td>\n",
              "      <td>0.313228</td>\n",
              "      <td>79.22</td>\n",
              "      <td>2</td>\n",
              "      <td>35495.525408</td>\n",
              "      <td>2</td>\n",
              "      <td>0.483696</td>\n",
              "      <td>21</td>\n",
              "    </tr>\n",
              "  </tbody>\n",
              "</table>\n",
              "</div>"
            ],
            "text/plain": [
              "   Safety_Score  Days_Since_Inspection  ...  Adverse_Weather_Metric  Accident_ID\n",
              "0     19.497717                     16  ...                0.069692            1\n",
              "1     58.173516                     15  ...                0.002777           10\n",
              "2     33.287671                     15  ...                0.004316           14\n",
              "3      3.287671                     21  ...                0.199990           17\n",
              "4     10.867580                     18  ...                0.483696           21\n",
              "\n",
              "[5 rows x 11 columns]"
            ]
          },
          "metadata": {
            "tags": []
          },
          "execution_count": 113
        }
      ]
    },
    {
      "cell_type": "code",
      "metadata": {
        "id": "T9NrD_xSOhm6",
        "colab_type": "code",
        "colab": {}
      },
      "source": [
        "acc_id=test['Accident_ID']\n",
        "test=test.drop(columns=['Accident_ID'])\n",
        "data=(test-test.min())/(test.max()-test.min())"
      ],
      "execution_count": 0,
      "outputs": []
    },
    {
      "cell_type": "code",
      "metadata": {
        "id": "9cHUQ-56Ozk8",
        "colab_type": "code",
        "colab": {
          "base_uri": "https://localhost:8080/",
          "height": 226
        },
        "outputId": "754beffb-c250-444d-a141-279178a1119e"
      },
      "source": [
        "data.head()"
      ],
      "execution_count": 115,
      "outputs": [
        {
          "output_type": "execute_result",
          "data": {
            "text/html": [
              "<div>\n",
              "<style scoped>\n",
              "    .dataframe tbody tr th:only-of-type {\n",
              "        vertical-align: middle;\n",
              "    }\n",
              "\n",
              "    .dataframe tbody tr th {\n",
              "        vertical-align: top;\n",
              "    }\n",
              "\n",
              "    .dataframe thead th {\n",
              "        text-align: right;\n",
              "    }\n",
              "</style>\n",
              "<table border=\"1\" class=\"dataframe\">\n",
              "  <thead>\n",
              "    <tr style=\"text-align: right;\">\n",
              "      <th></th>\n",
              "      <th>Safety_Score</th>\n",
              "      <th>Days_Since_Inspection</th>\n",
              "      <th>Total_Safety_Complaints</th>\n",
              "      <th>Control_Metric</th>\n",
              "      <th>Turbulence_In_gforces</th>\n",
              "      <th>Cabin_Temperature</th>\n",
              "      <th>Accident_Type_Code</th>\n",
              "      <th>Max_Elevation</th>\n",
              "      <th>Violations</th>\n",
              "      <th>Adverse_Weather_Metric</th>\n",
              "    </tr>\n",
              "  </thead>\n",
              "  <tbody>\n",
              "    <tr>\n",
              "      <th>0</th>\n",
              "      <td>0.194977</td>\n",
              "      <td>0.681818</td>\n",
              "      <td>0.111111</td>\n",
              "      <td>0.664497</td>\n",
              "      <td>0.332520</td>\n",
              "      <td>0.183967</td>\n",
              "      <td>0.500000</td>\n",
              "      <td>0.603705</td>\n",
              "      <td>0.4</td>\n",
              "      <td>0.029313</td>\n",
              "    </tr>\n",
              "    <tr>\n",
              "      <th>1</th>\n",
              "      <td>0.581735</td>\n",
              "      <td>0.636364</td>\n",
              "      <td>0.055556</td>\n",
              "      <td>0.566272</td>\n",
              "      <td>0.145508</td>\n",
              "      <td>0.198356</td>\n",
              "      <td>1.000000</td>\n",
              "      <td>0.477575</td>\n",
              "      <td>0.4</td>\n",
              "      <td>0.001019</td>\n",
              "    </tr>\n",
              "    <tr>\n",
              "      <th>2</th>\n",
              "      <td>0.332877</td>\n",
              "      <td>0.636364</td>\n",
              "      <td>0.055556</td>\n",
              "      <td>0.568047</td>\n",
              "      <td>0.261719</td>\n",
              "      <td>0.627955</td>\n",
              "      <td>0.833333</td>\n",
              "      <td>0.272287</td>\n",
              "      <td>0.2</td>\n",
              "      <td>0.001670</td>\n",
              "    </tr>\n",
              "    <tr>\n",
              "      <th>3</th>\n",
              "      <td>0.032877</td>\n",
              "      <td>0.909091</td>\n",
              "      <td>0.092593</td>\n",
              "      <td>0.589349</td>\n",
              "      <td>0.376953</td>\n",
              "      <td>0.314491</td>\n",
              "      <td>0.333333</td>\n",
              "      <td>0.640454</td>\n",
              "      <td>0.4</td>\n",
              "      <td>0.084407</td>\n",
              "    </tr>\n",
              "    <tr>\n",
              "      <th>4</th>\n",
              "      <td>0.108676</td>\n",
              "      <td>0.772727</td>\n",
              "      <td>0.037037</td>\n",
              "      <td>0.456213</td>\n",
              "      <td>0.229980</td>\n",
              "      <td>0.230216</td>\n",
              "      <td>0.166667</td>\n",
              "      <td>0.563789</td>\n",
              "      <td>0.4</td>\n",
              "      <td>0.204366</td>\n",
              "    </tr>\n",
              "  </tbody>\n",
              "</table>\n",
              "</div>"
            ],
            "text/plain": [
              "   Safety_Score  Days_Since_Inspection  ...  Violations  Adverse_Weather_Metric\n",
              "0      0.194977               0.681818  ...         0.4                0.029313\n",
              "1      0.581735               0.636364  ...         0.4                0.001019\n",
              "2      0.332877               0.636364  ...         0.2                0.001670\n",
              "3      0.032877               0.909091  ...         0.4                0.084407\n",
              "4      0.108676               0.772727  ...         0.4                0.204366\n",
              "\n",
              "[5 rows x 10 columns]"
            ]
          },
          "metadata": {
            "tags": []
          },
          "execution_count": 115
        }
      ]
    },
    {
      "cell_type": "code",
      "metadata": {
        "id": "bBbI-NsBO35E",
        "colab_type": "code",
        "colab": {
          "base_uri": "https://localhost:8080/",
          "height": 156
        },
        "outputId": "af9d35f6-da98-447b-e08b-2f9c28ced604"
      },
      "source": [
        "prediction=model.predict(data)\n",
        "prediction"
      ],
      "execution_count": 116,
      "outputs": [
        {
          "output_type": "execute_result",
          "data": {
            "text/plain": [
              "array([[9.99849081e-01, 1.00369414e-10, 1.33317706e-04, 1.74914985e-05],\n",
              "       [1.37761673e-02, 8.51018180e-04, 7.08662987e-01, 2.76709855e-01],\n",
              "       [5.48491906e-03, 4.22260106e-01, 2.64209259e-04, 5.71990728e-01],\n",
              "       ...,\n",
              "       [1.51408883e-02, 3.00474085e-07, 2.99983016e-09, 9.84858811e-01],\n",
              "       [8.50482285e-03, 3.61688551e-04, 4.97055737e-07, 9.91133034e-01],\n",
              "       [1.24456927e-01, 1.78827599e-04, 8.75242710e-01, 1.21532437e-04]],\n",
              "      dtype=float32)"
            ]
          },
          "metadata": {
            "tags": []
          },
          "execution_count": 116
        }
      ]
    },
    {
      "cell_type": "code",
      "metadata": {
        "id": "Eu25-6ezPCL2",
        "colab_type": "code",
        "colab": {}
      },
      "source": [
        "prediction=prediction.argmax(axis=1)"
      ],
      "execution_count": 0,
      "outputs": []
    },
    {
      "cell_type": "code",
      "metadata": {
        "id": "7LlXGYfKPX0g",
        "colab_type": "code",
        "colab": {
          "base_uri": "https://localhost:8080/",
          "height": 34
        },
        "outputId": "17d388aa-92ba-4c50-c7b1-5193ca38d41f"
      },
      "source": [
        "prediction.shape,test.shape"
      ],
      "execution_count": 118,
      "outputs": [
        {
          "output_type": "execute_result",
          "data": {
            "text/plain": [
              "((2500,), (2500, 10))"
            ]
          },
          "metadata": {
            "tags": []
          },
          "execution_count": 118
        }
      ]
    },
    {
      "cell_type": "code",
      "metadata": {
        "id": "OnLw3I7YPZI2",
        "colab_type": "code",
        "colab": {
          "base_uri": "https://localhost:8080/",
          "height": 69
        },
        "outputId": "b4228d86-c887-4d90-ed5e-d16967e96e91"
      },
      "source": [
        "le.classes_"
      ],
      "execution_count": 119,
      "outputs": [
        {
          "output_type": "execute_result",
          "data": {
            "text/plain": [
              "array(['Highly_Fatal_And_Damaging', 'Minor_Damage_And_Injuries',\n",
              "       'Significant_Damage_And_Fatalities',\n",
              "       'Significant_Damage_And_Serious_Injuries'], dtype=object)"
            ]
          },
          "metadata": {
            "tags": []
          },
          "execution_count": 119
        }
      ]
    },
    {
      "cell_type": "code",
      "metadata": {
        "id": "_IespUJ4PyQK",
        "colab_type": "code",
        "colab": {}
      },
      "source": [
        "out=le.inverse_transform(prediction)"
      ],
      "execution_count": 0,
      "outputs": []
    },
    {
      "cell_type": "code",
      "metadata": {
        "id": "_IhukhWOP-b_",
        "colab_type": "code",
        "colab": {
          "base_uri": "https://localhost:8080/",
          "height": 104
        },
        "outputId": "56d51656-f2eb-422a-d054-311bc7e5c0bd"
      },
      "source": [
        "out"
      ],
      "execution_count": 121,
      "outputs": [
        {
          "output_type": "execute_result",
          "data": {
            "text/plain": [
              "array(['Highly_Fatal_And_Damaging', 'Significant_Damage_And_Fatalities',\n",
              "       'Significant_Damage_And_Serious_Injuries', ...,\n",
              "       'Significant_Damage_And_Serious_Injuries',\n",
              "       'Significant_Damage_And_Serious_Injuries',\n",
              "       'Significant_Damage_And_Fatalities'], dtype=object)"
            ]
          },
          "metadata": {
            "tags": []
          },
          "execution_count": 121
        }
      ]
    },
    {
      "cell_type": "code",
      "metadata": {
        "id": "mjpxkZfgP_L6",
        "colab_type": "code",
        "colab": {}
      },
      "source": [
        "sub=pd.read_csv('sample_submission.csv')"
      ],
      "execution_count": 0,
      "outputs": []
    },
    {
      "cell_type": "code",
      "metadata": {
        "id": "bIFtZpnVQObR",
        "colab_type": "code",
        "colab": {
          "base_uri": "https://localhost:8080/",
          "height": 206
        },
        "outputId": "6450a1e6-5c5d-49db-a67c-7f9ea39ad273"
      },
      "source": [
        "sub.head()"
      ],
      "execution_count": 123,
      "outputs": [
        {
          "output_type": "execute_result",
          "data": {
            "text/html": [
              "<div>\n",
              "<style scoped>\n",
              "    .dataframe tbody tr th:only-of-type {\n",
              "        vertical-align: middle;\n",
              "    }\n",
              "\n",
              "    .dataframe tbody tr th {\n",
              "        vertical-align: top;\n",
              "    }\n",
              "\n",
              "    .dataframe thead th {\n",
              "        text-align: right;\n",
              "    }\n",
              "</style>\n",
              "<table border=\"1\" class=\"dataframe\">\n",
              "  <thead>\n",
              "    <tr style=\"text-align: right;\">\n",
              "      <th></th>\n",
              "      <th>Accident_ID</th>\n",
              "      <th>Severity</th>\n",
              "    </tr>\n",
              "  </thead>\n",
              "  <tbody>\n",
              "    <tr>\n",
              "      <th>0</th>\n",
              "      <td>1</td>\n",
              "      <td>Minor_Damage_And_Injuries</td>\n",
              "    </tr>\n",
              "    <tr>\n",
              "      <th>1</th>\n",
              "      <td>10</td>\n",
              "      <td>Highly_Fatal_And_Damaging</td>\n",
              "    </tr>\n",
              "    <tr>\n",
              "      <th>2</th>\n",
              "      <td>14</td>\n",
              "      <td>Highly_Fatal_And_Damaging</td>\n",
              "    </tr>\n",
              "    <tr>\n",
              "      <th>3</th>\n",
              "      <td>17</td>\n",
              "      <td>Significant_Damage_And_Serious_Injuries</td>\n",
              "    </tr>\n",
              "    <tr>\n",
              "      <th>4</th>\n",
              "      <td>21</td>\n",
              "      <td>Minor_Damage_And_Injuries</td>\n",
              "    </tr>\n",
              "  </tbody>\n",
              "</table>\n",
              "</div>"
            ],
            "text/plain": [
              "   Accident_ID                                 Severity\n",
              "0            1                Minor_Damage_And_Injuries\n",
              "1           10                Highly_Fatal_And_Damaging\n",
              "2           14                Highly_Fatal_And_Damaging\n",
              "3           17  Significant_Damage_And_Serious_Injuries\n",
              "4           21                Minor_Damage_And_Injuries"
            ]
          },
          "metadata": {
            "tags": []
          },
          "execution_count": 123
        }
      ]
    },
    {
      "cell_type": "code",
      "metadata": {
        "id": "zM-b0yk1QQJf",
        "colab_type": "code",
        "colab": {}
      },
      "source": [
        "submission=pd.DataFrame(columns=['Accident_ID','Severity'])"
      ],
      "execution_count": 0,
      "outputs": []
    },
    {
      "cell_type": "code",
      "metadata": {
        "id": "X3fa1orFQvuN",
        "colab_type": "code",
        "colab": {
          "base_uri": "https://localhost:8080/",
          "height": 49
        },
        "outputId": "ca4f91de-0a84-4563-faad-aad53765bbce"
      },
      "source": [
        "submission"
      ],
      "execution_count": 125,
      "outputs": [
        {
          "output_type": "execute_result",
          "data": {
            "text/html": [
              "<div>\n",
              "<style scoped>\n",
              "    .dataframe tbody tr th:only-of-type {\n",
              "        vertical-align: middle;\n",
              "    }\n",
              "\n",
              "    .dataframe tbody tr th {\n",
              "        vertical-align: top;\n",
              "    }\n",
              "\n",
              "    .dataframe thead th {\n",
              "        text-align: right;\n",
              "    }\n",
              "</style>\n",
              "<table border=\"1\" class=\"dataframe\">\n",
              "  <thead>\n",
              "    <tr style=\"text-align: right;\">\n",
              "      <th></th>\n",
              "      <th>Accident_ID</th>\n",
              "      <th>Severity</th>\n",
              "    </tr>\n",
              "  </thead>\n",
              "  <tbody>\n",
              "  </tbody>\n",
              "</table>\n",
              "</div>"
            ],
            "text/plain": [
              "Empty DataFrame\n",
              "Columns: [Accident_ID, Severity]\n",
              "Index: []"
            ]
          },
          "metadata": {
            "tags": []
          },
          "execution_count": 125
        }
      ]
    },
    {
      "cell_type": "code",
      "metadata": {
        "id": "cmXpgsZKQxXf",
        "colab_type": "code",
        "colab": {}
      },
      "source": [
        "submission['Accident_ID']=acc_id\n",
        "submission['Severity']=out"
      ],
      "execution_count": 0,
      "outputs": []
    },
    {
      "cell_type": "code",
      "metadata": {
        "id": "bmcfFdSqRB5Y",
        "colab_type": "code",
        "colab": {}
      },
      "source": [
        "submission.to_csv('Prediction.csv',index=False)"
      ],
      "execution_count": 0,
      "outputs": []
    },
    {
      "cell_type": "code",
      "metadata": {
        "id": "Evm4_jzhRhM2",
        "colab_type": "code",
        "colab": {}
      },
      "source": [
        ""
      ],
      "execution_count": 0,
      "outputs": []
    }
  ]
}